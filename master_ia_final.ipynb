{
  "nbformat": 4,
  "nbformat_minor": 0,
  "metadata": {
    "colab": {
      "provenance": [],
      "history_visible": true,
      "include_colab_link": true
    },
    "kernelspec": {
      "name": "python3",
      "display_name": "Python 3"
    },
    "language_info": {
      "name": "python"
    }
  },
  "cells": [
    {
      "cell_type": "markdown",
      "metadata": {
        "id": "view-in-github",
        "colab_type": "text"
      },
      "source": [
        "<a href=\"https://colab.research.google.com/github/MaelleCornec/random_teachers/blob/main/master_ia_final.ipynb\" target=\"_parent\"><img src=\"https://colab.research.google.com/assets/colab-badge.svg\" alt=\"Open In Colab\"/></a>"
      ]
    },
    {
      "cell_type": "markdown",
      "source": [
        "# Initialisation du notebook"
      ],
      "metadata": {
        "id": "pBZYk6tR7dqp"
      }
    },
    {
      "cell_type": "markdown",
      "source": [
        "Il faut bien penser à activer le GPU pour aller plus vite"
      ],
      "metadata": {
        "id": "BPs6IAv77vZi"
      }
    },
    {
      "cell_type": "code",
      "execution_count": 1,
      "metadata": {
        "id": "pAZPsNPK_1YJ"
      },
      "outputs": [],
      "source": [
        "import os\n",
        "import time\n",
        "\n",
        "import numpy as np\n",
        "import pandas as pd\n",
        "\n",
        "import torch\n",
        "import torch.nn as nn\n",
        "import torch.nn.functional as F\n",
        "from torch.utils.data import DataLoader\n",
        "\n",
        "from torchvision import datasets\n",
        "from torchvision import transforms\n",
        "\n",
        "import matplotlib.pyplot as plt\n",
        "from PIL import Image\n",
        "\n",
        "\n",
        "if torch.cuda.is_available():\n",
        "    torch.backends.cudnn.deterministic = True"
      ]
    },
    {
      "cell_type": "code",
      "source": [
        "##########################\n",
        "### SETTINGS\n",
        "##########################\n",
        "\n",
        "# Hyperparameters\n",
        "RANDOM_SEED = 1\n",
        "LEARNING_RATE = 0.001\n",
        "BATCH_SIZE = 128\n",
        "# changer ça en fonction des expériences:\n",
        "NUM_EPOCHS = 20\n",
        "\n",
        "# Architecture\n",
        "NUM_FEATURES = 28*28\n",
        "NUM_CLASSES = 10\n",
        "\n",
        "# Other\n",
        "DEVICE = \"cuda\" if torch.cuda.is_available() else \"cpu\"\n",
        "GRAYSCALE = False\n",
        "\n",
        "print(f\"Device utilisé: {DEVICE}\")"
      ],
      "metadata": {
        "id": "DBZq3tQ2Ad5_",
        "colab": {
          "base_uri": "https://localhost:8080/"
        },
        "outputId": "36f5c8b2-5917-493c-907c-1939450946cd"
      },
      "execution_count": 2,
      "outputs": [
        {
          "output_type": "stream",
          "name": "stdout",
          "text": [
            "Device utilisé: cpu\n"
          ]
        }
      ]
    },
    {
      "cell_type": "code",
      "source": [
        "##########################\n",
        "### MNIST DATASET\n",
        "##########################\n",
        "\n",
        "# Note transforms.ToTensor() scales input images\n",
        "# to 0-1 range\n",
        "train_dataset = datasets.CIFAR10(root='data',\n",
        "                               train=True,\n",
        "                               transform=transforms.ToTensor(),\n",
        "                               download=True)\n",
        "\n",
        "test_dataset = datasets.CIFAR10(root='data',\n",
        "                              train=False,\n",
        "                              transform=transforms.ToTensor())\n",
        "\n",
        "\n",
        "train_loader = DataLoader(dataset=train_dataset,\n",
        "                          batch_size=BATCH_SIZE,\n",
        "                          shuffle=True)\n",
        "\n",
        "test_loader = DataLoader(dataset=test_dataset,\n",
        "                         batch_size=BATCH_SIZE,\n",
        "                         shuffle=False)\n",
        "\n",
        "# Checking the dataset\n",
        "for images, labels in train_loader:\n",
        "    print('Image batch dimensions:', images.shape)\n",
        "    print('Image label dimensions:', labels.shape)\n",
        "    break"
      ],
      "metadata": {
        "colab": {
          "base_uri": "https://localhost:8080/"
        },
        "id": "lL7i7KVAAnDo",
        "outputId": "721efc1b-0566-4d58-a01f-41850e1a5af2"
      },
      "execution_count": 3,
      "outputs": [
        {
          "output_type": "stream",
          "name": "stdout",
          "text": [
            "Downloading https://www.cs.toronto.edu/~kriz/cifar-10-python.tar.gz to data/cifar-10-python.tar.gz\n"
          ]
        },
        {
          "output_type": "stream",
          "name": "stderr",
          "text": [
            "100%|██████████| 170498071/170498071 [00:09<00:00, 18688815.99it/s]\n"
          ]
        },
        {
          "output_type": "stream",
          "name": "stdout",
          "text": [
            "Extracting data/cifar-10-python.tar.gz to data\n",
            "Image batch dimensions: torch.Size([128, 3, 32, 32])\n",
            "Image label dimensions: torch.Size([128])\n"
          ]
        }
      ]
    },
    {
      "cell_type": "markdown",
      "source": [
        "On vérifie que les batchs sont bien initialisés"
      ],
      "metadata": {
        "id": "Apoq7C087n5H"
      }
    },
    {
      "cell_type": "code",
      "source": [
        "device = torch.device(DEVICE)\n",
        "torch.manual_seed(0)\n",
        "\n",
        "for epoch in range(2):\n",
        "\n",
        "    for batch_idx, (x, y) in enumerate(train_loader):\n",
        "\n",
        "        print('Epoch:', epoch+1, end='')\n",
        "        print(' | Batch index:', batch_idx, end='')\n",
        "        print(' | Batch size:', y.size()[0])\n",
        "\n",
        "        x = x.to(device)\n",
        "        y = y.to(device)\n",
        "        break"
      ],
      "metadata": {
        "colab": {
          "base_uri": "https://localhost:8080/"
        },
        "id": "hlPzwhyMB_so",
        "outputId": "929f786e-7996-46be-d95d-5d49ea02e0f0"
      },
      "execution_count": 4,
      "outputs": [
        {
          "output_type": "stream",
          "name": "stdout",
          "text": [
            "Epoch: 1 | Batch index: 0 | Batch size: 128\n",
            "Epoch: 2 | Batch index: 0 | Batch size: 128\n"
          ]
        }
      ]
    },
    {
      "cell_type": "code",
      "source": [
        "for batch_idx, (features, targets) in enumerate(test_loader):\n",
        "\n",
        "    features = features\n",
        "    targets = targets\n",
        "    break\n",
        "\n",
        "nhwc_img = np.transpose(features[1], axes=(1, 2, 0))\n",
        "nhw_img = nhwc_img.numpy()\n",
        "plt.imshow(nhw_img)\n",
        "print(targets[1].item())\n"
      ],
      "metadata": {
        "id": "9H4rptPoJP9f",
        "colab": {
          "base_uri": "https://localhost:8080/",
          "height": 448
        },
        "outputId": "a9831df0-fef3-4e0b-97ff-a7612248c7e2"
      },
      "execution_count": 5,
      "outputs": [
        {
          "output_type": "stream",
          "name": "stdout",
          "text": [
            "8\n"
          ]
        },
        {
          "output_type": "display_data",
          "data": {
            "text/plain": [
              "<Figure size 640x480 with 1 Axes>"
            ],
            "image/png": "[encoded data removed]"
          },
          "metadata": {}
        }
      ]
    },
    {
      "cell_type": "markdown",
      "source": [
        "# Définition des modèles"
      ],
      "metadata": {
        "id": "_bGb4hMw8eH3"
      }
    },
    {
      "cell_type": "markdown",
      "source": [
        "## ResNet18"
      ],
      "metadata": {
        "id": "MV_aZXa_8xnt"
      }
    },
    {
      "cell_type": "code",
      "source": [
        "def conv3x3(in_planes, out_planes, stride=1):\n",
        "    \"\"\"3x3 convolution with padding\"\"\"\n",
        "    return nn.Conv2d(in_planes, out_planes, kernel_size=3, stride=stride,\n",
        "                     padding=1, bias=False)\n",
        "\n",
        "class BasicBlock(nn.Module):\n",
        "    expansion = 1\n",
        "\n",
        "    def __init__(self, inplanes, planes, stride=1, downsample=None):\n",
        "        super(BasicBlock, self).__init__()\n",
        "        self.conv1 = conv3x3(inplanes, planes, stride)\n",
        "        self.bn1 = nn.BatchNorm2d(planes)\n",
        "        self.relu = nn.ReLU(inplace=True)\n",
        "        self.conv2 = conv3x3(planes, planes)\n",
        "        self.bn2 = nn.BatchNorm2d(planes)\n",
        "        self.downsample = downsample\n",
        "        self.stride = stride\n",
        "\n",
        "    def forward(self, x):\n",
        "        residual = x\n",
        "\n",
        "        out = self.conv1(x)\n",
        "        out = self.bn1(out)\n",
        "        out = self.relu(out)\n",
        "\n",
        "        out = self.conv2(out)\n",
        "        out = self.bn2(out)\n",
        "\n",
        "        if self.downsample is not None:\n",
        "            residual = self.downsample(x)\n",
        "\n",
        "        out += residual\n",
        "        out = self.relu(out)\n",
        "\n",
        "        return out\n",
        "\n",
        "class ResNet(nn.Module):\n",
        "\n",
        "    def __init__(self, block, layers, num_classes, grayscale):\n",
        "        self.inplanes = 64\n",
        "        if grayscale:\n",
        "            in_dim = 1\n",
        "        else:\n",
        "            in_dim = 3\n",
        "        super(ResNet, self).__init__()\n",
        "        self.conv1 = nn.Conv2d(in_dim, 64, kernel_size=7, stride=2, padding=3,\n",
        "                               bias=False)\n",
        "        self.bn1 = nn.BatchNorm2d(64)\n",
        "        self.relu = nn.ReLU(inplace=True)\n",
        "        self.maxpool = nn.MaxPool2d(kernel_size=3, stride=2, padding=1)\n",
        "        self.layer1 = self._make_layer(block, 64, layers[0])\n",
        "        self.layer2 = self._make_layer(block, 128, layers[1], stride=2)\n",
        "        self.layer3 = self._make_layer(block, 256, layers[2], stride=2)\n",
        "        self.layer4 = self._make_layer(block, 512, layers[3], stride=2)\n",
        "        self.avgpool = nn.AvgPool2d(7, stride=1)\n",
        "        self.fc = nn.Linear(512 * block.expansion, num_classes)\n",
        "\n",
        "        for m in self.modules():\n",
        "            if isinstance(m, nn.Conv2d):\n",
        "                n = m.kernel_size[0] * m.kernel_size[1] * m.out_channels\n",
        "                m.weight.data.normal_(0, (2. / n)**.5)\n",
        "            elif isinstance(m, nn.BatchNorm2d):\n",
        "                m.weight.data.fill_(1)\n",
        "                m.bias.data.zero_()\n",
        "\n",
        "    def _make_layer(self, block, planes, blocks, stride=1):\n",
        "        downsample = None\n",
        "        if stride != 1 or self.inplanes != planes * block.expansion:\n",
        "            downsample = nn.Sequential(\n",
        "                nn.Conv2d(self.inplanes, planes * block.expansion,\n",
        "                          kernel_size=1, stride=stride, bias=False),\n",
        "                nn.BatchNorm2d(planes * block.expansion),\n",
        "            )\n",
        "\n",
        "        layers = []\n",
        "        layers.append(block(self.inplanes, planes, stride, downsample))\n",
        "        self.inplanes = planes * block.expansion\n",
        "        for i in range(1, blocks):\n",
        "            layers.append(block(self.inplanes, planes))\n",
        "\n",
        "        return nn.Sequential(*layers)\n",
        "\n",
        "    def forward(self, x):\n",
        "        x = self.conv1(x)\n",
        "        x = self.bn1(x)\n",
        "        x = self.relu(x)\n",
        "        x = self.maxpool(x)\n",
        "\n",
        "        x = self.layer1(x)\n",
        "        x = self.layer2(x)\n",
        "        x = self.layer3(x)\n",
        "        x = self.layer4(x)\n",
        "        # because MNIST is already 1x1 here:\n",
        "        # disable avg pooling\n",
        "        #x = self.avgpool(x)\n",
        "\n",
        "        x = x.view(x.size(0), -1)\n",
        "        logits = self.fc(x)\n",
        "        probas = F.softmax(logits, dim=1)\n",
        "        return logits, probas\n",
        "\n",
        "\n",
        "\n",
        "def resnet18(num_classes):\n",
        "    \"\"\"Constructs a ResNet-18 model.\"\"\"\n",
        "    model = ResNet(block=BasicBlock,\n",
        "                   layers=[2, 2, 2, 2],\n",
        "                   num_classes=NUM_CLASSES,\n",
        "                   grayscale=GRAYSCALE)\n",
        "    return model"
      ],
      "metadata": {
        "id": "U9FyYpqsCmBk"
      },
      "execution_count": 6,
      "outputs": []
    },
    {
      "cell_type": "markdown",
      "source": [
        "## VGG"
      ],
      "metadata": {
        "id": "Oa4DBzGP85Kw"
      }
    },
    {
      "cell_type": "markdown",
      "source": [
        "à rajouter"
      ],
      "metadata": {
        "id": "jbt7ZF2F87Wz"
      }
    },
    {
      "cell_type": "markdown",
      "source": [
        "# Entrainement des modèles"
      ],
      "metadata": {
        "id": "GtqQbNDH9C4q"
      }
    },
    {
      "cell_type": "code",
      "source": [
        "def compute_accuracy(model, data_loader, device):\n",
        "    correct_pred, num_examples = 0, 0\n",
        "    for i, (features, targets) in enumerate(data_loader):\n",
        "\n",
        "        features = features.to(device)\n",
        "        targets = targets.to(device)\n",
        "\n",
        "        logits, probas = model(features)\n",
        "        _, predicted_labels = torch.max(probas, 1)\n",
        "        num_examples += targets.size(0)\n",
        "        correct_pred += (predicted_labels == targets).sum()\n",
        "    return correct_pred.float()/num_examples * 100"
      ],
      "metadata": {
        "id": "PKTiLY2GqXa6"
      },
      "execution_count": 7,
      "outputs": []
    },
    {
      "cell_type": "code",
      "source": [
        "def update_student_parameters(teacher, student, alpha):\n",
        "    alpha_tensor = torch.tensor(alpha, dtype=torch.float32)  # Convert alpha to a tensor\n",
        "    delta = torch.sqrt(alpha_tensor**2 + (1 - alpha_tensor)**2)\n",
        "    for param_teacher, param_student in zip(teacher.parameters(), student.parameters()):\n",
        "        fresh_init = torch.randn_like(param_student.data)  # Fresh initialization\n",
        "        new_param_student = (1 - alpha_tensor) * param_teacher.data + alpha_tensor * fresh_init\n",
        "        new_param_student /= delta\n",
        "        param_student.data.copy_(new_param_student)\n"
      ],
      "metadata": {
        "id": "5LzDbWV5SHeV"
      },
      "execution_count": 8,
      "outputs": []
    },
    {
      "cell_type": "markdown",
      "source": [
        "## Entrainement non-naif du teacher (ne reproduit pas une figure ou résultat du papier)"
      ],
      "metadata": {
        "id": "s1Ah_uPp31Ah"
      }
    },
    {
      "cell_type": "markdown",
      "source": [
        "On entraine une première fois un modèle, histoire de vérifier que tout fonctionne. Il jouera le rôle de teacher, dans l'idée il faudra initialiser le teacher aléatoirement"
      ],
      "metadata": {
        "id": "N5mMDxeeEu_o"
      }
    },
    {
      "cell_type": "code",
      "source": [
        "def test_algo():\n",
        "    torch.manual_seed(RANDOM_SEED +1)\n",
        "\n",
        "    model = resnet18(NUM_CLASSES)\n",
        "    model.to(DEVICE)\n",
        "    optimizer = torch.optim.Adam(model.parameters(), lr=LEARNING_RATE)\n",
        "\n",
        "    start_time = time.time()\n",
        "    for epoch in range(1):\n",
        "\n",
        "        model.train()\n",
        "        for batch_idx, (features, targets) in enumerate(train_loader):\n",
        "\n",
        "            features = features.to(DEVICE)\n",
        "            targets = targets.to(DEVICE)\n",
        "\n",
        "            ### FORWARD AND BACK PROP\n",
        "            logits, probas = model(features)\n",
        "            cost = F.cross_entropy(logits, targets)\n",
        "            optimizer.zero_grad()\n",
        "\n",
        "            cost.backward()\n",
        "\n",
        "            ### UPDATE MODEL PARAMETERS\n",
        "            optimizer.step()\n",
        "\n",
        "            ### LOGGING\n",
        "            if not batch_idx % 50:\n",
        "                print ('Epoch: %03d/%03d | Batch %04d/%04d | Cost: %.4f'\n",
        "                      %(epoch+1, NUM_EPOCHS, batch_idx,\n",
        "                        len(train_loader), cost))\n",
        "\n",
        "        model.eval()\n",
        "        with torch.set_grad_enabled(False): # save memory during inference\n",
        "            print('Epoch: %03d/%03d | Train: %.3f%%' % (\n",
        "                  epoch+1, NUM_EPOCHS,\n",
        "                  compute_accuracy(model, train_loader, device=DEVICE)))\n",
        "\n",
        "        print('Time elapsed: %.2f min' % ((time.time() - start_time)/60))\n",
        "\n",
        "    print('Total Training Time: %.2f min' % ((time.time() - start_time)/60))\n",
        "\n",
        "#test_algo()"
      ],
      "metadata": {
        "id": "NvjC8htlDGYd"
      },
      "execution_count": 9,
      "outputs": []
    },
    {
      "cell_type": "markdown",
      "source": [
        "## Reproduction Fig.1"
      ],
      "metadata": {
        "id": "MQLy105r4ta0"
      }
    },
    {
      "cell_type": "markdown",
      "source": [
        "### Proposition distance : MSE"
      ],
      "metadata": {
        "id": "vqquwaRH5fKW"
      }
    },
    {
      "cell_type": "markdown",
      "source": [
        "Le teacher n'est pas randomisé à chaque epoch, pas de linear probing non plus"
      ],
      "metadata": {
        "id": "Bof5OpNv58Ee"
      }
    },
    {
      "cell_type": "code",
      "source": [
        "def train_knowledge_distillation_mse(teacher, student, train_loader, epochs, learning_rate, device):\n",
        "    optimizer = torch.optim.Adam(student.parameters(), lr=learning_rate)\n",
        "\n",
        "    teacher.eval()  # L'enseignant ne va pas être actualisé\n",
        "    start_time = time.time()\n",
        "\n",
        "    for epoch in range(epochs):\n",
        "\n",
        "      student.train() # On va actualiser l'étudiant\n",
        "\n",
        "      for batch_idx, (features, targets) in enumerate(train_loader):\n",
        "          features = features.to(DEVICE)\n",
        "          targets = targets.to(DEVICE)\n",
        "\n",
        "          ## Forward pass avec l'enseignant et l'étudiant\n",
        "          with torch.no_grad():\n",
        "              teacher_logits, _ = teacher(features)\n",
        "          student_logits, _ = student(features)\n",
        "\n",
        "          # La distance est calculée par Mean Squared Error (pas défini dans l'article)\n",
        "          loss_distillation = F.mse_loss(student_logits, teacher_logits)\n",
        "          # si on veut définir une loss plus complexe, il suffirait de la plug-in ci-dessous\n",
        "          loss = loss_distillation\n",
        "\n",
        "          optimizer.zero_grad()\n",
        "\n",
        "          ## Backpropagation\n",
        "          loss.backward()\n",
        "\n",
        "          ## Update les paramètres du modèle\n",
        "          optimizer.step()\n",
        "\n",
        "          ## Log des résultats\n",
        "          if not batch_idx % 50:\n",
        "            print ('Epoch: %03d/%03d | Batch %04d/%04d | Cost: %.4f'\n",
        "                   %(epoch+1, epochs, batch_idx,\n",
        "                    len(train_loader), loss))\n",
        "      student.eval()\n",
        "      with torch.set_grad_enabled(False): # save memory during inference\n",
        "          print('Epoch: %03d/%03d | Train: %.3f%%' % (\n",
        "                epoch+1, epochs,\n",
        "                compute_accuracy(student, train_loader, device=device)))\n",
        "\n",
        "      print('Time elapsed: %.2f min' % ((time.time() - start_time)/60))\n",
        "    print('Total Training Time: %.2f min' % ((time.time() - start_time)/60))"
      ],
      "metadata": {
        "id": "8ykXJwREL8Ut"
      },
      "execution_count": 10,
      "outputs": []
    },
    {
      "cell_type": "code",
      "source": [
        "teacher = resnet18(NUM_CLASSES)\n",
        "teacher.to(DEVICE)\n",
        "student = resnet18(NUM_CLASSES)\n",
        "student.to(DEVICE)\n",
        "\n",
        "print(\"ok\")\n",
        "\n",
        "# train_knowledge_distillation_mse(teacher, student, train_loader, NUM_EPOCHS, LEARNING_RATE, DEVICE)"
      ],
      "metadata": {
        "colab": {
          "base_uri": "https://localhost:8080/"
        },
        "id": "VDWTMbKlyQ-4",
        "outputId": "b6fe8318-737e-4d38-ff4f-fbae7b8cc293"
      },
      "execution_count": 11,
      "outputs": [
        {
          "output_type": "stream",
          "name": "stdout",
          "text": [
            "ok\n"
          ]
        }
      ]
    },
    {
      "cell_type": "code",
      "source": [
        "# student.eval()\n",
        "# with torch.set_grad_enabled(False):\n",
        "#   print(\"%.3f% %\" % compute_accuracy(teacher, train_loader, device=device))"
      ],
      "metadata": {
        "id": "N50t7M8gMCIR"
      },
      "execution_count": null,
      "outputs": []
    },
    {
      "cell_type": "markdown",
      "source": [
        "### Proposition distance: KL divergence"
      ],
      "metadata": {
        "id": "3Qbec2uX6EBh"
      }
    },
    {
      "cell_type": "markdown",
      "source": [
        "pas (encore) de teacher randomisé à chaque epoch, KL divergence et linear probing"
      ],
      "metadata": {
        "id": "pM4MYx4q6MRl"
      }
    },
    {
      "cell_type": "code",
      "source": [
        "import torch\n",
        "import torch.nn.functional as F\n",
        "import time\n",
        "from sklearn.linear_model import LogisticRegression\n",
        "from sklearn.metrics import accuracy_score\n",
        "\n",
        "def train_knowledge_distillation_kl_linear_probing_LR(model,\n",
        "                                                   train_loader,\n",
        "                                                   epochs,\n",
        "                                                   learning_rate,\n",
        "                                                   device,\n",
        "                                                    alpha,\n",
        "                                                   epoch_randomized_teacher = False,\n",
        "                                                  ):\n",
        "    ### Definition des modèles initiaux\n",
        "    teacher = model(NUM_CLASSES)\n",
        "    teacher.to(DEVICE)\n",
        "    student = model(NUM_CLASSES)\n",
        "    student.to(DEVICE)\n",
        "\n",
        "    update_student_parameters(teacher, student, alpha=alpha)\n",
        "\n",
        "    # Definition des variables/comportement des objets\n",
        "    optimizer = torch.optim.Adam(student.parameters(), lr=learning_rate)\n",
        "    teacher.eval()\n",
        "    start_time = time.time()\n",
        "    logistic_regression_kwarg = {\n",
        "        \"max_iter\" : 1000,\n",
        "        \"random_state\" : 0,\n",
        "    }\n",
        "\n",
        "    ### Definition loggers\n",
        "    teacher_accuracy_log = []\n",
        "    student_accuracy_log = []\n",
        "\n",
        "    for epoch in range(epochs):\n",
        "\n",
        "        if epoch_randomized_teacher:\n",
        "            teacher = model(NUM_CLASSES)\n",
        "            teacher.to(DEVICE)\n",
        "            teacher.eval()\n",
        "\n",
        "        student.train()\n",
        "        teacher_logits_list = []\n",
        "        student_logits_list = []\n",
        "        targets_list = []\n",
        "\n",
        "        for batch_idx, (features, targets) in enumerate(train_loader):\n",
        "            features = features.to(device)\n",
        "            targets = targets.to(device)\n",
        "\n",
        "            with torch.no_grad():\n",
        "                teacher_logits, _ = teacher(features)\n",
        "            student_logits, _ = student(features)\n",
        "\n",
        "            teacher_logits_list.append(teacher_logits.cpu().detach().numpy())\n",
        "            student_logits_list.append(student_logits.cpu().detach().numpy())\n",
        "            targets_list.append(targets.cpu().detach().numpy())\n",
        "\n",
        "            loss_distillation = F.kl_div(F.log_softmax(student_logits, dim=1),\n",
        "                                          F.softmax(teacher_logits, dim=1),\n",
        "                                          reduction='batchmean')\n",
        "            loss = loss_distillation\n",
        "\n",
        "            optimizer.zero_grad()\n",
        "            loss.backward()\n",
        "            optimizer.step()\n",
        "\n",
        "            if not batch_idx % 50:\n",
        "                print ('Epoch: %03d/%03d | Batch %04d/%04d | Cost: %.4f'\n",
        "                       %(epoch+1, epochs, batch_idx,\n",
        "                        len(train_loader), loss.item()))\n",
        "\n",
        "        # On convertit les tenseurs pour permettre de concaténer les batchs\n",
        "        teacher_logits_tensor = torch.from_numpy(np.concatenate(teacher_logits_list, axis=0))\n",
        "        student_logits_tensor = torch.from_numpy(np.concatenate(student_logits_list, axis=0))\n",
        "        targets_tensor = torch.from_numpy(np.concatenate(targets_list, axis=0))\n",
        "\n",
        "        # Ensuite on fit la logistic regression sur les logits du teacher\n",
        "        logistic_regression_teacher = LogisticRegression(**logistic_regression_kwarg)\n",
        "        logistic_regression_teacher.fit(teacher_logits_tensor, targets_tensor)\n",
        "        teacher_accuracy = accuracy_score(targets_tensor, logistic_regression_teacher.predict(teacher_logits_tensor))\n",
        "        print(f'Epoch: {epoch+1}/{epochs} | Teacher Logistic Regression Accuracy: {teacher_accuracy:.3f}')\n",
        "\n",
        "        # Ensuite on fit la logistic regression sur les logits du student\n",
        "        logistic_regression_student = LogisticRegression(**logistic_regression_kwarg)\n",
        "        logistic_regression_student.fit(student_logits_tensor, targets_tensor)\n",
        "        student_accuracy = accuracy_score(targets_tensor, logistic_regression_student.predict(student_logits_tensor))\n",
        "        print(f'Epoch: {epoch+1}/{epochs} | Student Logistic Regression Accuracy: {student_accuracy:.3f}')\n",
        "        student_accuracy_log.append(student_accuracy)\n",
        "        teacher_accuracy_log.append(teacher_accuracy)\n",
        "        # Evaluate student\n",
        "        student.eval()\n",
        "        with torch.set_grad_enabled(False):\n",
        "            print('Epoch: %03d/%03d | Train: %.3f%%' % (\n",
        "                    epoch+1, epochs,\n",
        "                    compute_accuracy(student, train_loader, device=device)))\n",
        "\n",
        "        print('Time elapsed: %.2f min' % ((time.time() - start_time)/60))\n",
        "    print('Total Training Time: %.2f min' % ((time.time() - start_time)/60))\n",
        "    return teacher_accuracy_log, student_accuracy_log"
      ],
      "metadata": {
        "id": "90m8yGBiA5Un"
      },
      "execution_count": 12,
      "outputs": []
    },
    {
      "cell_type": "code",
      "source": [
        "print(\"ok\")\n",
        "teacher_accuracy_log, student_accuracy_log = train_knowledge_distillation_kl_linear_probing_LR(resnet18,\n",
        "                                                                                            train_loader,\n",
        "                                                                                            NUM_EPOCHS,                                                                                     LEARNING_RATE,\n",
        "                                                                                            DEVICE,\n",
        "                                                                                            alpha = 0.1,\n",
        "                                                                                            epoch_randomized_teacher = True,\n",
        ")"
      ],
      "metadata": {
        "id": "Hoznb-ymxj4E",
        "colab": {
          "base_uri": "https://localhost:8080/"
        },
        "outputId": "9da2ba94-2403-48ef-c875-12155e56656a"
      },
      "execution_count": null,
      "outputs": [
        {
          "output_type": "stream",
          "name": "stdout",
          "text": [
            "ok\n",
            "Epoch: 001/020 | Batch 0000/0391 | Cost: 2.6653\n",
            "Epoch: 001/020 | Batch 0050/0391 | Cost: 0.1520\n",
            "Epoch: 001/020 | Batch 0100/0391 | Cost: 0.0280\n",
            "Epoch: 001/020 | Batch 0150/0391 | Cost: 0.0162\n",
            "Epoch: 001/020 | Batch 0200/0391 | Cost: 0.0081\n",
            "Epoch: 001/020 | Batch 0250/0391 | Cost: 0.0080\n",
            "Epoch: 001/020 | Batch 0300/0391 | Cost: 0.0052\n",
            "Epoch: 001/020 | Batch 0350/0391 | Cost: 0.0049\n",
            "Epoch: 1/20 | Teacher Logistic Regression Accuracy: 0.245\n",
            "Epoch: 1/20 | Student Logistic Regression Accuracy: 0.142\n",
            "Epoch: 001/020 | Train: 9.764%\n",
            "Time elapsed: 17.50 min\n",
            "Epoch: 002/020 | Batch 0000/0391 | Cost: 0.0228\n",
            "Epoch: 002/020 | Batch 0050/0391 | Cost: 0.0050\n",
            "Epoch: 002/020 | Batch 0100/0391 | Cost: 0.0035\n",
            "Epoch: 002/020 | Batch 0150/0391 | Cost: 0.0025\n",
            "Epoch: 002/020 | Batch 0200/0391 | Cost: 0.0017\n",
            "Epoch: 002/020 | Batch 0250/0391 | Cost: 0.0027\n",
            "Epoch: 002/020 | Batch 0300/0391 | Cost: 0.0021\n",
            "Epoch: 002/020 | Batch 0350/0391 | Cost: 0.0018\n",
            "Epoch: 2/20 | Teacher Logistic Regression Accuracy: 0.235\n",
            "Epoch: 2/20 | Student Logistic Regression Accuracy: 0.165\n",
            "Epoch: 002/020 | Train: 10.082%\n",
            "Time elapsed: 35.06 min\n",
            "Epoch: 003/020 | Batch 0000/0391 | Cost: 0.0148\n",
            "Epoch: 003/020 | Batch 0050/0391 | Cost: 0.0014\n",
            "Epoch: 003/020 | Batch 0100/0391 | Cost: 0.0011\n",
            "Epoch: 003/020 | Batch 0150/0391 | Cost: 0.0011\n",
            "Epoch: 003/020 | Batch 0200/0391 | Cost: 0.0013\n",
            "Epoch: 003/020 | Batch 0250/0391 | Cost: 0.0011\n",
            "Epoch: 003/020 | Batch 0300/0391 | Cost: 0.0009\n",
            "Epoch: 003/020 | Batch 0350/0391 | Cost: 0.0011\n"
          ]
        }
      ]
    },
    {
      "cell_type": "code",
      "source": [
        "teacher_accuracy_log, student_accuracy_log"
      ],
      "metadata": {
        "id": "-0DG_LrKxph2"
      },
      "execution_count": null,
      "outputs": []
    },
    {
      "cell_type": "markdown",
      "source": [
        "### LR sur données complètes"
      ],
      "metadata": {
        "id": "w-YYEN5KpVw7"
      }
    },
    {
      "cell_type": "code",
      "source": [
        "def flatten_loader(loader):\n",
        "    features_list = []\n",
        "    targets_list = []\n",
        "    for batch_features, batch_targets in loader:\n",
        "        features_list.append(batch_features.view(batch_features.size(0), -1))\n",
        "        targets_list.append(batch_targets)\n",
        "    return torch.cat(features_list, dim=0), torch.cat(targets_list, dim=0)\n",
        "\n",
        "# Flatten the train_loader\n",
        "flattened_features, flattened_targets = flatten_loader(train_loader)\n",
        "\n",
        "# Fit logistic regression on flattened data\n",
        "logistic_regression = LogisticRegression(max_iter=100, random_state=0)\n",
        "logistic_regression.fit(flattened_features.numpy(), flattened_targets.numpy())"
      ],
      "metadata": {
        "colab": {
          "base_uri": "https://localhost:8080/",
          "height": 233
        },
        "id": "OX-5SJ8lfzSs",
        "outputId": "e11d3fcf-1567-403f-d3c1-477bea8545af"
      },
      "execution_count": null,
      "outputs": [
        {
          "output_type": "stream",
          "name": "stderr",
          "text": [
            "/usr/local/lib/python3.10/dist-packages/sklearn/linear_model/_logistic.py:458: ConvergenceWarning: lbfgs failed to converge (status=1):\n",
            "STOP: TOTAL NO. of ITERATIONS REACHED LIMIT.\n",
            "\n",
            "Increase the number of iterations (max_iter) or scale the data as shown in:\n",
            "    https://scikit-learn.org/stable/modules/preprocessing.html\n",
            "Please also refer to the documentation for alternative solver options:\n",
            "    https://scikit-learn.org/stable/modules/linear_model.html#logistic-regression\n",
            "  n_iter_i = _check_optimize_result(\n"
          ]
        },
        {
          "output_type": "execute_result",
          "data": {
            "text/plain": [
              "LogisticRegression(random_state=0)"
            ],
            "text/html": [
              "<style>#sk-container-id-1 {color: black;background-color: white;}#sk-container-id-1 pre{padding: 0;}#sk-container-id-1 div.sk-toggleable {background-color: white;}#sk-container-id-1 label.sk-toggleable__label {cursor: pointer;display: block;width: 100%;margin-bottom: 0;padding: 0.3em;box-sizing: border-box;text-align: center;}#sk-container-id-1 label.sk-toggleable__label-arrow:before {content: \"▸\";float: left;margin-right: 0.25em;color: #696969;}#sk-container-id-1 label.sk-toggleable__label-arrow:hover:before {color: black;}#sk-container-id-1 div.sk-estimator:hover label.sk-toggleable__label-arrow:before {color: black;}#sk-container-id-1 div.sk-toggleable__content {max-height: 0;max-width: 0;overflow: hidden;text-align: left;background-color: #f0f8ff;}#sk-container-id-1 div.sk-toggleable__content pre {margin: 0.2em;color: black;border-radius: 0.25em;background-color: #f0f8ff;}#sk-container-id-1 input.sk-toggleable__control:checked~div.sk-toggleable__content {max-height: 200px;max-width: 100%;overflow: auto;}#sk-container-id-1 input.sk-toggleable__control:checked~label.sk-toggleable__label-arrow:before {content: \"▾\";}#sk-container-id-1 div.sk-estimator input.sk-toggleable__control:checked~label.sk-toggleable__label {background-color: #d4ebff;}#sk-container-id-1 div.sk-label input.sk-toggleable__control:checked~label.sk-toggleable__label {background-color: #d4ebff;}#sk-container-id-1 input.sk-hidden--visually {border: 0;clip: rect(1px 1px 1px 1px);clip: rect(1px, 1px, 1px, 1px);height: 1px;margin: -1px;overflow: hidden;padding: 0;position: absolute;width: 1px;}#sk-container-id-1 div.sk-estimator {font-family: monospace;background-color: #f0f8ff;border: 1px dotted black;border-radius: 0.25em;box-sizing: border-box;margin-bottom: 0.5em;}#sk-container-id-1 div.sk-estimator:hover {background-color: #d4ebff;}#sk-container-id-1 div.sk-parallel-item::after {content: \"\";width: 100%;border-bottom: 1px solid gray;flex-grow: 1;}#sk-container-id-1 div.sk-label:hover label.sk-toggleable__label {background-color: #d4ebff;}#sk-container-id-1 div.sk-serial::before {content: \"\";position: absolute;border-left: 1px solid gray;box-sizing: border-box;top: 0;bottom: 0;left: 50%;z-index: 0;}#sk-container-id-1 div.sk-serial {display: flex;flex-direction: column;align-items: center;background-color: white;padding-right: 0.2em;padding-left: 0.2em;position: relative;}#sk-container-id-1 div.sk-item {position: relative;z-index: 1;}#sk-container-id-1 div.sk-parallel {display: flex;align-items: stretch;justify-content: center;background-color: white;position: relative;}#sk-container-id-1 div.sk-item::before, #sk-container-id-1 div.sk-parallel-item::before {content: \"\";position: absolute;border-left: 1px solid gray;box-sizing: border-box;top: 0;bottom: 0;left: 50%;z-index: -1;}#sk-container-id-1 div.sk-parallel-item {display: flex;flex-direction: column;z-index: 1;position: relative;background-color: white;}#sk-container-id-1 div.sk-parallel-item:first-child::after {align-self: flex-end;width: 50%;}#sk-container-id-1 div.sk-parallel-item:last-child::after {align-self: flex-start;width: 50%;}#sk-container-id-1 div.sk-parallel-item:only-child::after {width: 0;}#sk-container-id-1 div.sk-dashed-wrapped {border: 1px dashed gray;margin: 0 0.4em 0.5em 0.4em;box-sizing: border-box;padding-bottom: 0.4em;background-color: white;}#sk-container-id-1 div.sk-label label {font-family: monospace;font-weight: bold;display: inline-block;line-height: 1.2em;}#sk-container-id-1 div.sk-label-container {text-align: center;}#sk-container-id-1 div.sk-container {/* jupyter's `normalize.less` sets `[hidden] { display: none; }` but bootstrap.min.css set `[hidden] { display: none !important; }` so we also need the `!important` here to be able to override the default hidden behavior on the sphinx rendered scikit-learn.org. See: https://github.com/scikit-learn/scikit-learn/issues/21755 */display: inline-block !important;position: relative;}#sk-container-id-1 div.sk-text-repr-fallback {display: none;}</style><div id=\"sk-container-id-1\" class=\"sk-top-container\"><div class=\"sk-text-repr-fallback\"><pre>LogisticRegression(random_state=0)</pre><b>In a Jupyter environment, please rerun this cell to show the HTML representation or trust the notebook. <br />On GitHub, the HTML representation is unable to render, please try loading this page with nbviewer.org.</b></div><div class=\"sk-container\" hidden><div class=\"sk-item\"><div class=\"sk-estimator sk-toggleable\"><input class=\"sk-toggleable__control sk-hidden--visually\" id=\"sk-estimator-id-1\" type=\"checkbox\" checked><label for=\"sk-estimator-id-1\" class=\"sk-toggleable__label sk-toggleable__label-arrow\">LogisticRegression</label><div class=\"sk-toggleable__content\"><pre>LogisticRegression(random_state=0)</pre></div></div></div></div></div>"
            ]
          },
          "metadata": {},
          "execution_count": 15
        }
      ]
    },
    {
      "cell_type": "code",
      "source": [
        "flattened_features, flattened_targets = flatten_loader(test_loader)\n",
        "accuracy_score(flattened_targets, logistic_regression.predict(flattened_features))\n"
      ],
      "metadata": {
        "colab": {
          "base_uri": "https://localhost:8080/"
        },
        "id": "W_VRSsC7q2DK",
        "outputId": "8738630f-8b32-4105-a171-3bb41f70812e"
      },
      "execution_count": null,
      "outputs": [
        {
          "output_type": "execute_result",
          "data": {
            "text/plain": [
              "0.4051"
            ]
          },
          "metadata": {},
          "execution_count": 18
        }
      ]
    },
    {
      "cell_type": "markdown",
      "source": [
        "## Autre expérience (à compléter)"
      ],
      "metadata": {
        "id": "MPZFEGzSpagm"
      }
    },
    {
      "cell_type": "code",
      "source": [],
      "metadata": {
        "id": "tMsc7e4slD48"
      },
      "execution_count": null,
      "outputs": []
    }
  ]
}