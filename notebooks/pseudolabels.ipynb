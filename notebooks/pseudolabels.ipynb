{
 "cells": [
  {
   "cell_type": "code",
   "execution_count": null,
   "metadata": {},
   "outputs": [],
   "source": [
    "import torch\n",
    "import matplotlib.pyplot as plt\n",
    "from ipywidgets import AppLayout, GridspecLayout, IntSlider, FloatSlider, Button, Checkbox, Layout, HBox, VBox\n",
    "import math\n",
    "import os\n",
    "import pandas as pd\n",
    "\n",
    "import seaborn as sns\n",
    "sns.set_theme()\n",
    "\n",
    "from dinopl.tracking import FeatureSaver\n",
    "\n",
    "from torch.nn import functional as F\n",
    "#%matplotlib widget"
   ]
  },
  {
   "cell_type": "code",
   "execution_count": null,
   "metadata": {},
   "outputs": [],
   "source": [
    "data_proje, names, indices = FeatureSaver.load_data(os.path.join(os.environ['DINO_RESULTS'],'DINO/1nz5q6j3/valid/feat/proje'))\n",
    "print(names[:5], '...', names[-5:])\n",
    "print(data_proje.shape)"
   ]
  },
  {
   "cell_type": "code",
   "execution_count": null,
   "metadata": {},
   "outputs": [],
   "source": [
    "lbls = data_proje[:, :,0].squeeze()\n",
    "lbls.shape"
   ]
  },
  {
   "cell_type": "code",
   "execution_count": null,
   "metadata": {},
   "outputs": [],
   "source": [
    "t_proje = data_proje[:, :,1:2**16+1].squeeze()\n",
    "t_proje.shape"
   ]
  },
  {
   "cell_type": "markdown",
   "metadata": {},
   "source": [
    "#### Feature Covariance/Correlation Matrix"
   ]
  },
  {
   "cell_type": "code",
   "execution_count": null,
   "metadata": {},
   "outputs": [],
   "source": [
    "f_cov = torch.cov(t_proje.T)\n",
    "f_cov.shape"
   ]
  },
  {
   "cell_type": "code",
   "execution_count": null,
   "metadata": {},
   "outputs": [],
   "source": [
    "ind = torch.argsort(f_cov.mean(dim=0))"
   ]
  },
  {
   "cell_type": "code",
   "execution_count": null,
   "metadata": {},
   "outputs": [],
   "source": [
    "f, ax = plt.subplots(figsize=(20, 20))\n",
    "mat = ax.matshow(f_cov.index_select(0, ind).index_select(1, ind))\n",
    "plt.colorbar(mat, ax=ax)"
   ]
  },
  {
   "cell_type": "code",
   "execution_count": null,
   "metadata": {},
   "outputs": [],
   "source": [
    "f_corr = torch.corrcoef(t_proje.T)\n",
    "f_corr.shape"
   ]
  },
  {
   "cell_type": "code",
   "execution_count": null,
   "metadata": {},
   "outputs": [],
   "source": [
    "ind = torch.argsort(f_corr.mean(dim=0))"
   ]
  },
  {
   "cell_type": "code",
   "execution_count": null,
   "metadata": {},
   "outputs": [],
   "source": [
    "f, ax = plt.subplots(figsize=(20, 20))\n",
    "mat = ax.matshow(f_corr.index_select(0, ind).index_select(1, ind))\n",
    "plt.colorbar(mat, ax=ax)\n",
    "plt.savefig('f_corr.pdf')"
   ]
  },
  {
   "cell_type": "markdown",
   "metadata": {},
   "source": [
    "#### Sample Covariance/Correlation Matrix"
   ]
  },
  {
   "cell_type": "code",
   "execution_count": null,
   "metadata": {},
   "outputs": [],
   "source": [
    "s_cov = torch.cov(t_proje)\n",
    "s_cov.shape"
   ]
  },
  {
   "cell_type": "code",
   "execution_count": null,
   "metadata": {},
   "outputs": [],
   "source": [
    "ind = torch.argsort(lbls)\n",
    "ticks = torch.cumsum(torch.tensor([sum(lbl == lbls) for lbl in torch.unique(lbls)]), dim=0)\n",
    "ticklbls = [f'{lbl}' for lbl in torch.unique(lbls)]"
   ]
  },
  {
   "cell_type": "code",
   "execution_count": null,
   "metadata": {},
   "outputs": [],
   "source": [
    "f, ax = plt.subplots(figsize=(20, 20))\n",
    "mat = ax.matshow(s_cov.index_select(0, ind).index_select(1, ind))\n",
    "plt.colorbar(mat, ax=ax)\n",
    "ax.set_xticks(ticks)\n",
    "ax.set_xticklabels(ticklbls)\n",
    "ax.set_yticks(ticks)\n",
    "ax.set_yticklabels(ticklbls)\n"
   ]
  },
  {
   "cell_type": "code",
   "execution_count": null,
   "metadata": {},
   "outputs": [],
   "source": [
    "s_corr = torch.corrcoef(t_proje)\n",
    "s_corr.shape"
   ]
  },
  {
   "cell_type": "code",
   "execution_count": null,
   "metadata": {},
   "outputs": [],
   "source": [
    "ind = torch.argsort(lbls)\n",
    "ticks = torch.cumsum(torch.tensor([sum(lbl == lbls) for lbl in torch.unique(lbls)]), dim=0)\n",
    "ticklbls = [f'{lbl}' for lbl in torch.unique(lbls)]"
   ]
  },
  {
   "cell_type": "code",
   "execution_count": null,
   "metadata": {},
   "outputs": [],
   "source": [
    "f, ax = plt.subplots(figsize=(20, 20))\n",
    "mat = ax.matshow(s_corr.index_select(0, ind).index_select(1, ind))\n",
    "plt.colorbar(mat, ax=ax)\n",
    "ax.set_xticks(ticks)\n",
    "ax.set_xticklabels(ticklbls)\n",
    "ax.set_yticks(ticks)\n",
    "ax.set_yticklabels(ticklbls)\n",
    "plt.savefig('s_corr.pdf')"
   ]
  },
  {
   "cell_type": "markdown",
   "metadata": {},
   "source": []
  },
  {
   "cell_type": "code",
   "execution_count": null,
   "metadata": {},
   "outputs": [],
   "source": []
  }
 ],
 "metadata": {
  "kernelspec": {
   "display_name": "Python 3.8.5 ('dino')",
   "language": "python",
   "name": "python3"
  },
  "language_info": {
   "codemirror_mode": {
    "name": "ipython",
    "version": 3
   },
   "file_extension": ".py",
   "mimetype": "text/x-python",
   "name": "python",
   "nbconvert_exporter": "python",
   "pygments_lexer": "ipython3",
   "version": "3.8.5"
  },
  "orig_nbformat": 4,
  "vscode": {
   "interpreter": {
    "hash": "c88d231864a4bea7e4388fcc609bd62bc116121bdaee26c7f9d55d94cdceaa51"
   }
  }
 },
 "nbformat": 4,
 "nbformat_minor": 2
}
