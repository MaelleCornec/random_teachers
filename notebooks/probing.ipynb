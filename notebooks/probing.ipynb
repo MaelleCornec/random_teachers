{
 "cells": [
  {
   "cell_type": "code",
   "execution_count": 1,
   "metadata": {},
   "outputs": [
    {
     "data": {
      "text/plain": [
       "device(type='cuda', index=1)"
      ]
     },
     "execution_count": 1,
     "metadata": {},
     "output_type": "execute_result"
    }
   ],
   "source": [
    "%load_ext autoreload\n",
    "%autoreload 2\n",
    "\n",
    "import torch\n",
    "from torch import nn\n",
    "from torchvision import transforms\n",
    "from torch.utils.data import DataLoader\n",
    "import matplotlib.pyplot as plt\n",
    "\n",
    "from dinopl.probing import Prober, LinearAnalysis, KNNAnalysis, ToySet\n",
    "\n",
    "from datasets import *\n",
    "from models import *\n",
    "\n",
    "import dinopl.utils as U\n",
    "device = torch.device('cpu')\n",
    "device = torch.device(U.pick_single_gpu())\n",
    "device"
   ]
  },
  {
   "attachments": {},
   "cell_type": "markdown",
   "metadata": {},
   "source": [
    "#### Toy Data Set"
   ]
  },
  {
   "cell_type": "code",
   "execution_count": null,
   "metadata": {},
   "outputs": [],
   "source": [
    "trfm = transforms.Normalize(ToySet.mean, ToySet.std)\n",
    "toy = ToySet(transform=trfm, n_samples=10000)\n",
    "\n",
    "# iterate over dataset with transform \n",
    "data = torch.Tensor([(s[0], s[1]) for s, l in toy]) # get data\n",
    "lbls = torch.Tensor([l for s, l in toy]) # det labels\n",
    "\n",
    "plt.scatter(data[:, 0], data[:, 1], c=lbls, s=1)\n",
    "data.mean(dim=0), data.std(dim=0)"
   ]
  },
  {
   "cell_type": "code",
   "execution_count": 3,
   "metadata": {},
   "outputs": [
    {
     "name": "stdout",
     "output_type": "stream",
     "text": [
      "\n",
      "Starting analyses ['lin', 'knn'] of .."
     ]
    },
    {
     "name": "stderr",
     "output_type": "stream",
     "text": [
      "Training:   0%|          | 0/100 [00:00<?, ?it/s, loss=0.337]        "
     ]
    },
    {
     "name": "stderr",
     "output_type": "stream",
     "text": [
      "                                                                        \r"
     ]
    },
    {
     "name": "stdout",
     "output_type": "stream",
     "text": [
      " .. took 00:00min => {'probe//lin': '0.98', 'probe//knn': '0.98'}\n"
     ]
    },
    {
     "data": {
      "text/plain": [
       "{'probe//lin': 0.9800000190734863, 'probe//knn': 0.9800000190734863}"
      ]
     },
     "execution_count": 3,
     "metadata": {},
     "output_type": "execute_result"
    }
   ],
   "source": [
    "train_set = ToySet(train=True, n_samples=100)\n",
    "valid_set = ToySet(train=False, n_samples=100)\n",
    "\n",
    "# prepare dataloaders\n",
    "train_dl = DataLoader(dataset=train_set, shuffle=True, batch_size=10)\n",
    "valid_dl = DataLoader(dataset=valid_set, batch_size=10)\n",
    "\n",
    "# prepare prober\n",
    "prober = Prober(encoders = {'':nn.Identity()}, \n",
    "                analyses = {'lin': LinearAnalysis(n_epochs=100),\n",
    "                            'knn': KNNAnalysis(k=20)},\n",
    "                train_dl=train_dl,\n",
    "                valid_dl=valid_dl,\n",
    "                n_classes=2)\n",
    "\n",
    "# train and validate\n",
    "prober.probe()"
   ]
  },
  {
   "attachments": {},
   "cell_type": "markdown",
   "metadata": {},
   "source": [
    "#### CIFAR10"
   ]
  },
  {
   "cell_type": "code",
   "execution_count": 4,
   "metadata": {},
   "outputs": [
    {
     "name": "stdout",
     "output_type": "stream",
     "text": [
      "Files already downloaded and verified\n"
     ]
    },
    {
     "name": "stdout",
     "output_type": "stream",
     "text": [
      "Files already downloaded and verified\n"
     ]
    }
   ],
   "source": [
    "trfm = transforms.Compose([\n",
    "            transforms.Lambda(lambda img: img.convert('RGB')), \n",
    "            transforms.ToTensor(),\n",
    "            transforms.Normalize(CIFAR10.mean, CIFAR10.std),\n",
    "        ])\n",
    "train_set = CIFAR10(train=True, transform=trfm)\n",
    "valid_set = CIFAR10(train=False, transform=trfm)\n",
    "train_dl = DataLoader(dataset=train_set, batch_size=512, shuffle=True, num_workers=4, pin_memory=True)\n",
    "valid_dl = DataLoader(dataset=valid_set, batch_size=512, shuffle=False, num_workers=4, pin_memory=True)\n"
   ]
  },
  {
   "cell_type": "code",
   "execution_count": 5,
   "metadata": {},
   "outputs": [
    {
     "name": "stdout",
     "output_type": "stream",
     "text": [
      "\n",
      "Starting analyses ['lin', 'knn'] of flatten.."
     ]
    },
    {
     "name": "stderr",
     "output_type": "stream",
     "text": [
      "Loading embeddings:   0%|          | 0/98 [00:00<?, ?it/s]"
     ]
    },
    {
     "name": "stderr",
     "output_type": "stream",
     "text": [
      "                                                                                \r"
     ]
    },
    {
     "name": "stdout",
     "output_type": "stream",
     "text": [
      " ..flatten took 00:14min => {'probe/flatten/lin': '0.374', 'probe/flatten/knn': '0.339'}\n"
     ]
    },
    {
     "data": {
      "text/plain": [
       "{'probe/flatten/lin': 0.374099999666214,\n",
       " 'probe/flatten/knn': 0.3386000096797943}"
      ]
     },
     "execution_count": 5,
     "metadata": {},
     "output_type": "execute_result"
    }
   ],
   "source": [
    "model = flatten(n_pixels=train_set.ds_pixels, n_channels=train_set.ds_channels)\n",
    "\n",
    "prober = Prober(encoders = {'flatten':model}, \n",
    "                analyses = {'lin': LinearAnalysis(n_epochs=20),\n",
    "                            'knn': KNNAnalysis(k=20)},\n",
    "                train_dl=train_dl,\n",
    "                valid_dl=valid_dl,\n",
    "                n_classes=train_set.ds_classes)\n",
    "\n",
    "prober.probe(device)"
   ]
  },
  {
   "cell_type": "code",
   "execution_count": 6,
   "metadata": {},
   "outputs": [
    {
     "name": "stdout",
     "output_type": "stream",
     "text": [
      "\n",
      "Starting analyses ['lin', 'knn'] of flatten.."
     ]
    },
    {
     "name": "stderr",
     "output_type": "stream",
     "text": [
      "                                                                                "
     ]
    },
    {
     "name": "stdout",
     "output_type": "stream",
     "text": [
      " ..flatten took 01:04min => {'probe/flatten/lin': '0.389', 'probe/flatten/knn': '0.336'}\n"
     ]
    },
    {
     "name": "stderr",
     "output_type": "stream",
     "text": [
      "\r"
     ]
    },
    {
     "data": {
      "text/plain": [
       "{'probe/flatten/lin': 0.3894999921321869,\n",
       " 'probe/flatten/knn': 0.3361000120639801}"
      ]
     },
     "execution_count": 6,
     "metadata": {},
     "output_type": "execute_result"
    }
   ],
   "source": [
    "model = flatten(n_pixels=train_set.ds_pixels, n_channels=train_set.ds_channels)\n",
    "\n",
    "prober = Prober(encoders = {'flatten':model}, \n",
    "                analyses = {'lin': LinearAnalysis(n_epochs=20),\n",
    "                            'knn': KNNAnalysis(k=20)},\n",
    "                train_dl=train_dl,\n",
    "                valid_dl=valid_dl,\n",
    "                n_classes=train_set.ds_classes)\n",
    "\n",
    "prober.probe(torch.device('cpu'))"
   ]
  },
  {
   "cell_type": "code",
   "execution_count": 7,
   "metadata": {},
   "outputs": [
    {
     "name": "stdout",
     "output_type": "stream",
     "text": [
      "\n",
      "Starting analyses ['lin', 'knn'] of vgg11.."
     ]
    },
    {
     "name": "stderr",
     "output_type": "stream",
     "text": [
      "Loading embeddings:   0%|          | 0/98 [00:00<?, ?it/s]"
     ]
    },
    {
     "name": "stderr",
     "output_type": "stream",
     "text": [
      "                                                                                \r"
     ]
    },
    {
     "name": "stdout",
     "output_type": "stream",
     "text": [
      " ..vgg11 took 00:10min => {'probe/vgg11/lin': '0.369', 'probe/vgg11/knn': '0.449'}\n"
     ]
    },
    {
     "data": {
      "text/plain": [
       "{'probe/vgg11/lin': 0.36880001425743103, 'probe/vgg11/knn': 0.4489000141620636}"
      ]
     },
     "execution_count": 7,
     "metadata": {},
     "output_type": "execute_result"
    }
   ],
   "source": [
    "model = vgg11().to(device)\n",
    "\n",
    "prober = Prober(encoders = {'vgg11':model}, \n",
    "                analyses = {'lin': LinearAnalysis(n_epochs=20),\n",
    "                            'knn': KNNAnalysis(k=20)},\n",
    "                train_dl=train_dl,\n",
    "                valid_dl=valid_dl,\n",
    "                n_classes=train_set.ds_classes)\n",
    "\n",
    "prober.probe(device)"
   ]
  },
  {
   "cell_type": "code",
   "execution_count": 8,
   "metadata": {},
   "outputs": [
    {
     "name": "stdout",
     "output_type": "stream",
     "text": [
      "\n",
      "Starting analyses ['lin', 'knn'] of vgg11.."
     ]
    },
    {
     "name": "stderr",
     "output_type": "stream",
     "text": [
      "                                                                                "
     ]
    },
    {
     "name": "stdout",
     "output_type": "stream",
     "text": [
      " ..vgg11 took 00:16min => {'probe/vgg11/lin': '0.367', 'probe/vgg11/knn': '0.433'}\n"
     ]
    },
    {
     "name": "stderr",
     "output_type": "stream",
     "text": [
      "\r"
     ]
    },
    {
     "data": {
      "text/plain": [
       "{'probe/vgg11/lin': 0.3668999969959259, 'probe/vgg11/knn': 0.43309998512268066}"
      ]
     },
     "execution_count": 8,
     "metadata": {},
     "output_type": "execute_result"
    }
   ],
   "source": [
    "model = vgg11().to(device)\n",
    "\n",
    "prober = Prober(encoders = {'vgg11':model}, \n",
    "                analyses = {'lin': LinearAnalysis(n_epochs=20),\n",
    "                            'knn': KNNAnalysis(k=20)},\n",
    "                train_dl=train_dl,\n",
    "                valid_dl=valid_dl,\n",
    "                n_classes=train_set.ds_classes)\n",
    "\n",
    "# Encode images on GPU, but analyse embeddings on CPU..\n",
    "prober.probe(device_enc=device, device_emb=torch.device('cpu'))"
   ]
  }
 ],
 "metadata": {
  "kernelspec": {
   "display_name": "dino",
   "language": "python",
   "name": "python3"
  },
  "language_info": {
   "codemirror_mode": {
    "name": "ipython",
    "version": 3
   },
   "file_extension": ".py",
   "mimetype": "text/x-python",
   "name": "python",
   "nbconvert_exporter": "python",
   "pygments_lexer": "ipython3",
   "version": "3.8.5"
  },
  "orig_nbformat": 4,
  "vscode": {
   "interpreter": {
    "hash": "c88d231864a4bea7e4388fcc609bd62bc116121bdaee26c7f9d55d94cdceaa51"
   }
  }
 },
 "nbformat": 4,
 "nbformat_minor": 2
}
