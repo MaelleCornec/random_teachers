{
 "cells": [
  {
   "cell_type": "code",
   "execution_count": 1,
   "metadata": {},
   "outputs": [
    {
     "name": "stderr",
     "output_type": "stream",
     "text": [
      "/home/felix/miniconda3/envs/dino/lib/python3.6/site-packages/tqdm/auto.py:22: TqdmWarning: IProgress not found. Please update jupyter and ipywidgets. See https://ipywidgets.readthedocs.io/en/stable/user_install.html\n",
      "  from .autonotebook import tqdm as notebook_tqdm\n"
     ]
    }
   ],
   "source": [
    "import torch\n",
    "from torchvision import datasets, transforms\n",
    "from PIL import Image\n",
    "\n",
    "from dino import MultiCropAugmentation\n",
    "from main_dino import DataAugmentationDINO\n",
    "import my_utils as U\n"
   ]
  },
  {
   "cell_type": "code",
   "execution_count": 2,
   "metadata": {},
   "outputs": [],
   "source": [
    "# original dino transform\n",
    "global_crops_scale = (0.4, 1.)\n",
    "local_crops_scale = (0.05, 0.4)\n",
    "local_crops_number = 8\n",
    " \n",
    "convert_to_RGB = transforms.Lambda(lambda img: img.convert('RGB'))\n",
    "dino_trfm = DataAugmentationDINO(\n",
    "        global_crops_scale,\n",
    "        local_crops_scale,\n",
    "        local_crops_number,\n",
    "    )\n",
    "\n",
    "dino_trfm = transforms.Compose([convert_to_RGB, dino_trfm])"
   ]
  },
  {
   "cell_type": "code",
   "execution_count": 3,
   "metadata": {},
   "outputs": [],
   "source": [
    "# new multicrop augmentation transform\n",
    "MC_SPEC = [\n",
    "        {'name':'global1', 'out_size':128, 'min_scale':0.6, 'max_scale':1.0, 'teacher':True, 'student':True},\n",
    "        {'name':'global2', 'out_size':128, 'min_scale':0.6, 'max_scale':1.0, 'teacher':True, 'student':True},\n",
    "        {'name':'local1', 'out_size':96, 'min_scale':0.2, 'max_scale':0.4, 'teacher':False, 'student':True},\n",
    "        {'name':'local2', 'out_size':96, 'min_scale':0.2, 'max_scale':0.4, 'teacher':False, 'student':True},\n",
    "        {'name':'local3', 'out_size':96, 'min_scale':0.2, 'max_scale':0.4, 'teacher':False, 'student':True},\n",
    "        {'name':'local4', 'out_size':96, 'min_scale':0.2, 'max_scale':0.4, 'teacher':False, 'student':True},\n",
    "    ]\n",
    "\n",
    "self_trfm = transforms.Compose([ # self-training\n",
    "                transforms.Lambda(lambda img: img.convert('RGB')),\n",
    "                transforms.ToTensor()\n",
    "            ])\n",
    "\n",
    "mc = MultiCropAugmentation(MC_SPEC, per_crop_transform=self_trfm)"
   ]
  },
  {
   "cell_type": "markdown",
   "metadata": {},
   "source": [
    "### Progressively show dataset creation"
   ]
  },
  {
   "cell_type": "code",
   "execution_count": 4,
   "metadata": {},
   "outputs": [],
   "source": [
    "data_path = \"datasets/\"\n",
    "dataset = datasets.MNIST(data_path, train=True)"
   ]
  },
  {
   "cell_type": "code",
   "execution_count": 5,
   "metadata": {},
   "outputs": [
    {
     "name": "stdout",
     "output_type": "stream",
     "text": [
      "60000\n"
     ]
    },
    {
     "data": {
      "image/png": "[encoded data removed]",
      "text/plain": [
       "<PIL.Image.Image image mode=L size=28x28 at 0x7F87D9BEEC18>"
      ]
     },
     "metadata": {},
     "output_type": "display_data"
    },
    {
     "data": {
      "image/png": "[encoded data removed]",
      "text/plain": [
       "<PIL.Image.Image image mode=RGB size=28x28 at 0x7F87D9BEE860>"
      ]
     },
     "metadata": {},
     "output_type": "display_data"
    }
   ],
   "source": [
    "## Inspect dataset\n",
    "print(len(dataset))\n",
    "img, lbl = dataset[0]\n",
    "img.show()\n",
    "\n",
    "# inspect convert_to_RGB\n",
    "img = convert_to_RGB(img)\n",
    "img.show()\n"
   ]
  },
  {
   "cell_type": "code",
   "execution_count": 6,
   "metadata": {},
   "outputs": [
    {
     "name": "stdout",
     "output_type": "stream",
     "text": [
      "\n",
      "list of length 10\n",
      "  1. Tensor of shape torch.Size([3, 224, 224])\n",
      "  2. Tensor of shape torch.Size([3, 224, 224])\n",
      "  3. Tensor of shape torch.Size([3, 96, 96])\n",
      "  4. Tensor of shape torch.Size([3, 96, 96])\n",
      "  5. Tensor of shape torch.Size([3, 96, 96])\n",
      "  6. Tensor of shape torch.Size([3, 96, 96])\n",
      "  7. Tensor of shape torch.Size([3, 96, 96])\n",
      "  8. Tensor of shape torch.Size([3, 96, 96])\n",
      "  9. Tensor of shape torch.Size([3, 96, 96])\n",
      "  10. Tensor of shape torch.Size([3, 96, 96])\n",
      "\n",
      "list of length 6\n",
      "  1. Tensor of shape torch.Size([3, 128, 128])\n",
      "  2. Tensor of shape torch.Size([3, 128, 128])\n",
      "  3. Tensor of shape torch.Size([3, 96, 96])\n",
      "  4. Tensor of shape torch.Size([3, 96, 96])\n",
      "  5. Tensor of shape torch.Size([3, 96, 96])\n",
      "  6. Tensor of shape torch.Size([3, 96, 96])\n"
     ]
    }
   ],
   "source": [
    "# apply transform\n",
    "torch.manual_seed(1)\n",
    "\n",
    "print(U.recshape(dino_trfm(img)))\n",
    "print(U.recshape(mc(img)))\n"
   ]
  },
  {
   "cell_type": "code",
   "execution_count": 8,
   "metadata": {},
   "outputs": [
    {
     "name": "stdout",
     "output_type": "stream",
     "text": [
      "label: 5\n",
      "type(sample): <class 'list'>\n"
     ]
    },
    {
     "data": {
      "image/png": "[encoded data removed]",
      "text/plain": [
       "<PIL.Image.Image image mode=RGB size=128x128 at 0x7F87D9BEE0F0>"
      ]
     },
     "metadata": {},
     "output_type": "display_data"
    },
    {
     "data": {
      "image/png": "[encoded data removed]",
      "text/plain": [
       "<PIL.Image.Image image mode=RGB size=128x128 at 0x7F87D9BEE6A0>"
      ]
     },
     "metadata": {},
     "output_type": "display_data"
    },
    {
     "data": {
      "image/png": "[encoded data removed]",
      "text/plain": [
       "<PIL.Image.Image image mode=RGB size=96x96 at 0x7F87D9BEE0F0>"
      ]
     },
     "metadata": {},
     "output_type": "display_data"
    },
    {
     "data": {
      "image/png": "[encoded data removed]",
      "text/plain": [
       "<PIL.Image.Image image mode=RGB size=96x96 at 0x7F87D9BEE6A0>"
      ]
     },
     "metadata": {},
     "output_type": "display_data"
    },
    {
     "data": {
      "image/png": "[encoded data removed]",
      "text/plain": [
       "<PIL.Image.Image image mode=RGB size=96x96 at 0x7F87D9BEE048>"
      ]
     },
     "metadata": {},
     "output_type": "display_data"
    },
    {
     "data": {
      "image/png": "[encoded data removed]",
      "text/plain": [
       "<PIL.Image.Image image mode=RGB size=96x96 at 0x7F87D9BEE710>"
      ]
     },
     "metadata": {},
     "output_type": "display_data"
    }
   ],
   "source": [
    "dataset = datasets.MNIST(data_path, train=True, transform=mc)\n",
    "\n",
    "for sample, lbl in dataset:\n",
    "    print(f'label: {lbl}')\n",
    "    print(f'type(sample): {type(sample)}')\n",
    "\n",
    "    for x in sample:\n",
    "        transforms.functional.to_pil_image(x).show()\n",
    "        \n",
    "    break"
   ]
  },
  {
   "cell_type": "code",
   "execution_count": 9,
   "metadata": {},
   "outputs": [],
   "source": [
    "data_loader = torch.utils.data.DataLoader(dataset, batch_size=2)\n",
    "\n",
    "for batch, lbls in data_loader:\n",
    "    \n",
    "    U.recshape(batch, prefix='batch: ')\n",
    "    U.recshape(lbls, prefix='lbls: ')\n",
    "    break"
   ]
  }
 ],
 "metadata": {
  "interpreter": {
   "hash": "c88d231864a4bea7e4388fcc609bd62bc116121bdaee26c7f9d55d94cdceaa51"
  },
  "kernelspec": {
   "display_name": "Python 3.8.5 ('dino')",
   "language": "python",
   "name": "python3"
  },
  "language_info": {
   "codemirror_mode": {
    "name": "ipython",
    "version": 3
   },
   "file_extension": ".py",
   "mimetype": "text/x-python",
   "name": "python",
   "nbconvert_exporter": "python",
   "pygments_lexer": "ipython3",
   "version": "3.8.5"
  },
  "orig_nbformat": 4
 },
 "nbformat": 4,
 "nbformat_minor": 2
}
